{
  "nbformat": 4,
  "nbformat_minor": 0,
  "metadata": {
    "colab": {
      "name": "recap.ipynb",
      "provenance": []
    },
    "kernelspec": {
      "name": "python3",
      "display_name": "Python 3"
    },
    "language_info": {
      "name": "python"
    }
  },
  "cells": [
    {
      "cell_type": "code",
      "metadata": {
        "id": "p8ddpljvYRcf"
      },
      "source": [
        "#kil_3ada\n",
        "import tensorflow as tf\n",
        "import numpy as np \n",
        "import pandas as pd"
      ],
      "execution_count": 17,
      "outputs": []
    },
    {
      "cell_type": "markdown",
      "metadata": {
        "id": "vehL-tUTO3gp"
      },
      "source": [
        "# I.import the data"
      ]
    },
    {
      "cell_type": "markdown",
      "metadata": {
        "id": "GAHRx_kxfac_"
      },
      "source": [
        "aouel 7aja na3mlou ha bel tbi3a heya ne5tarou el data set el besh ne5edmou biha "
      ]
    },
    {
      "cell_type": "markdown",
      "metadata": {
        "id": "u0ldq9cZXiJP"
      },
      "source": [
        "1) el data maoujouda 3andek fel pc"
      ]
    },
    {
      "cell_type": "code",
      "metadata": {
        "id": "PFLdqK0B3WLa"
      },
      "source": [
        "from google.colab import files\n",
        "uploaded = files.upload()"
      ],
      "execution_count": null,
      "outputs": []
    },
    {
      "cell_type": "code",
      "metadata": {
        "id": "WoEl3yqAPBHv"
      },
      "source": [
        "import io\n",
        "#library tetelhe bel input/output \n",
        "#fi 7aletna a7na ta9ra el file ou tbadel fih\n",
        "#besh ta3ref akther a3liha : https://www.askpython.com/python-modules/python-io-module\n",
        "train_df= pd.read_csv(io.BytesIO(uploaded['train.csv'])).set_index(\"id\")\n",
        "test_df= pd.read_csv(io.BytesIO(uploaded['test.csv'])).set_index(\"id\")\n"
      ],
      "execution_count": null,
      "outputs": []
    },
    {
      "cell_type": "markdown",
      "metadata": {
        "id": "FWzOqsrUXpy4"
      },
      "source": [
        "2) 3andek link fih el file"
      ]
    },
    {
      "cell_type": "code",
      "metadata": {
        "id": "nCrHVhMBTgga"
      },
      "source": [
        "train_url = \"https://drive.google.com/file/d/1HWNg308mAiq1vQam_UqLytmhV_ajghO2/view?usp=sharing\"\n",
        "train_url='https://drive.google.com/uc?id=' + train_url.split('/')[-2]\n",
        "test_url =\"https://drive.google.com/file/d/1XSF3OQ8UuKRAsMSHxaPnnh0PCPWe7tCF/view?usp=sharing\"\n",
        "test_url='https://drive.google.com/uc?id=' + test_url.split('/')[-2]\n",
        "train_df = pd.read_csv(train_url)\n",
        "test_df = pd.read_csv(train_url)"
      ],
      "execution_count": 3,
      "outputs": []
    },
    {
      "cell_type": "markdown",
      "metadata": {
        "id": "1u-3--ijZLWQ"
      },
      "source": [
        "ou fama barsh touro9 o5ra kif anek testa3mel el kaggle api ouala tconnecti el colab bel drive  ama manesh besh nshoufouhom el mara hethi \n"
      ]
    },
    {
      "cell_type": "markdown",
      "metadata": {
        "id": "9QyA9Apxfi8K"
      },
      "source": [
        "# II.Data visualization"
      ]
    },
    {
      "cell_type": "markdown",
      "metadata": {
        "id": "_ZWhS0hmgVe7"
      },
      "source": [
        "aouel 7keya 5an shoufou el data set mte3na shneya fiha "
      ]
    },
    {
      "cell_type": "code",
      "metadata": {
        "colab": {
          "base_uri": "https://localhost:8080/",
          "height": 226
        },
        "id": "q7NgdJ2tfxrD",
        "outputId": "ea25211e-f78a-4bc4-d635-19bbc39a8c71"
      },
      "source": [
        "train_df.head()"
      ],
      "execution_count": 4,
      "outputs": [
        {
          "output_type": "execute_result",
          "data": {
            "text/html": [
              "<div>\n",
              "<style scoped>\n",
              "    .dataframe tbody tr th:only-of-type {\n",
              "        vertical-align: middle;\n",
              "    }\n",
              "\n",
              "    .dataframe tbody tr th {\n",
              "        vertical-align: top;\n",
              "    }\n",
              "\n",
              "    .dataframe thead th {\n",
              "        text-align: right;\n",
              "    }\n",
              "</style>\n",
              "<table border=\"1\" class=\"dataframe\">\n",
              "  <thead>\n",
              "    <tr style=\"text-align: right;\">\n",
              "      <th></th>\n",
              "      <th>id</th>\n",
              "      <th>cat0</th>\n",
              "      <th>cat1</th>\n",
              "      <th>cat2</th>\n",
              "      <th>cat3</th>\n",
              "      <th>cat4</th>\n",
              "      <th>cat5</th>\n",
              "      <th>cat6</th>\n",
              "      <th>cat7</th>\n",
              "      <th>cat8</th>\n",
              "      <th>cat9</th>\n",
              "      <th>cont0</th>\n",
              "      <th>cont1</th>\n",
              "      <th>cont2</th>\n",
              "      <th>cont3</th>\n",
              "      <th>cont4</th>\n",
              "      <th>cont5</th>\n",
              "      <th>cont6</th>\n",
              "      <th>cont7</th>\n",
              "      <th>cont8</th>\n",
              "      <th>cont9</th>\n",
              "      <th>cont10</th>\n",
              "      <th>cont11</th>\n",
              "      <th>cont12</th>\n",
              "      <th>cont13</th>\n",
              "      <th>target</th>\n",
              "    </tr>\n",
              "  </thead>\n",
              "  <tbody>\n",
              "    <tr>\n",
              "      <th>0</th>\n",
              "      <td>1</td>\n",
              "      <td>B</td>\n",
              "      <td>B</td>\n",
              "      <td>B</td>\n",
              "      <td>C</td>\n",
              "      <td>B</td>\n",
              "      <td>B</td>\n",
              "      <td>A</td>\n",
              "      <td>E</td>\n",
              "      <td>C</td>\n",
              "      <td>N</td>\n",
              "      <td>0.201470</td>\n",
              "      <td>-0.014822</td>\n",
              "      <td>0.669699</td>\n",
              "      <td>0.136278</td>\n",
              "      <td>0.610706</td>\n",
              "      <td>0.400361</td>\n",
              "      <td>0.160266</td>\n",
              "      <td>0.310921</td>\n",
              "      <td>0.389470</td>\n",
              "      <td>0.267559</td>\n",
              "      <td>0.237281</td>\n",
              "      <td>0.377873</td>\n",
              "      <td>0.322401</td>\n",
              "      <td>0.869850</td>\n",
              "      <td>8.113634</td>\n",
              "    </tr>\n",
              "    <tr>\n",
              "      <th>1</th>\n",
              "      <td>2</td>\n",
              "      <td>B</td>\n",
              "      <td>B</td>\n",
              "      <td>A</td>\n",
              "      <td>A</td>\n",
              "      <td>B</td>\n",
              "      <td>D</td>\n",
              "      <td>A</td>\n",
              "      <td>F</td>\n",
              "      <td>A</td>\n",
              "      <td>O</td>\n",
              "      <td>0.743068</td>\n",
              "      <td>0.367411</td>\n",
              "      <td>1.021605</td>\n",
              "      <td>0.365798</td>\n",
              "      <td>0.276853</td>\n",
              "      <td>0.533087</td>\n",
              "      <td>0.558922</td>\n",
              "      <td>0.516294</td>\n",
              "      <td>0.594928</td>\n",
              "      <td>0.341439</td>\n",
              "      <td>0.906013</td>\n",
              "      <td>0.921701</td>\n",
              "      <td>0.261975</td>\n",
              "      <td>0.465083</td>\n",
              "      <td>8.481233</td>\n",
              "    </tr>\n",
              "    <tr>\n",
              "      <th>2</th>\n",
              "      <td>3</td>\n",
              "      <td>A</td>\n",
              "      <td>A</td>\n",
              "      <td>A</td>\n",
              "      <td>C</td>\n",
              "      <td>B</td>\n",
              "      <td>D</td>\n",
              "      <td>A</td>\n",
              "      <td>D</td>\n",
              "      <td>A</td>\n",
              "      <td>F</td>\n",
              "      <td>0.742708</td>\n",
              "      <td>0.310383</td>\n",
              "      <td>-0.012673</td>\n",
              "      <td>0.576957</td>\n",
              "      <td>0.285074</td>\n",
              "      <td>0.650609</td>\n",
              "      <td>0.375348</td>\n",
              "      <td>0.902567</td>\n",
              "      <td>0.555205</td>\n",
              "      <td>0.843531</td>\n",
              "      <td>0.748809</td>\n",
              "      <td>0.620126</td>\n",
              "      <td>0.541474</td>\n",
              "      <td>0.763846</td>\n",
              "      <td>8.364351</td>\n",
              "    </tr>\n",
              "    <tr>\n",
              "      <th>3</th>\n",
              "      <td>4</td>\n",
              "      <td>B</td>\n",
              "      <td>B</td>\n",
              "      <td>A</td>\n",
              "      <td>C</td>\n",
              "      <td>B</td>\n",
              "      <td>D</td>\n",
              "      <td>A</td>\n",
              "      <td>E</td>\n",
              "      <td>C</td>\n",
              "      <td>K</td>\n",
              "      <td>0.429551</td>\n",
              "      <td>0.620998</td>\n",
              "      <td>0.577942</td>\n",
              "      <td>0.280610</td>\n",
              "      <td>0.284667</td>\n",
              "      <td>0.668980</td>\n",
              "      <td>0.239061</td>\n",
              "      <td>0.732948</td>\n",
              "      <td>0.679618</td>\n",
              "      <td>0.574844</td>\n",
              "      <td>0.346010</td>\n",
              "      <td>0.714610</td>\n",
              "      <td>0.540150</td>\n",
              "      <td>0.280682</td>\n",
              "      <td>8.049253</td>\n",
              "    </tr>\n",
              "    <tr>\n",
              "      <th>4</th>\n",
              "      <td>6</td>\n",
              "      <td>A</td>\n",
              "      <td>A</td>\n",
              "      <td>A</td>\n",
              "      <td>C</td>\n",
              "      <td>B</td>\n",
              "      <td>D</td>\n",
              "      <td>A</td>\n",
              "      <td>E</td>\n",
              "      <td>A</td>\n",
              "      <td>N</td>\n",
              "      <td>1.058291</td>\n",
              "      <td>0.367492</td>\n",
              "      <td>-0.052389</td>\n",
              "      <td>0.232407</td>\n",
              "      <td>0.287595</td>\n",
              "      <td>0.686964</td>\n",
              "      <td>0.420667</td>\n",
              "      <td>0.648182</td>\n",
              "      <td>0.684501</td>\n",
              "      <td>0.956692</td>\n",
              "      <td>1.000773</td>\n",
              "      <td>0.776742</td>\n",
              "      <td>0.625849</td>\n",
              "      <td>0.250823</td>\n",
              "      <td>7.972260</td>\n",
              "    </tr>\n",
              "  </tbody>\n",
              "</table>\n",
              "</div>"
            ],
            "text/plain": [
              "   id cat0 cat1 cat2 cat3  ...    cont10    cont11    cont12    cont13    target\n",
              "0   1    B    B    B    C  ...  0.237281  0.377873  0.322401  0.869850  8.113634\n",
              "1   2    B    B    A    A  ...  0.906013  0.921701  0.261975  0.465083  8.481233\n",
              "2   3    A    A    A    C  ...  0.748809  0.620126  0.541474  0.763846  8.364351\n",
              "3   4    B    B    A    C  ...  0.346010  0.714610  0.540150  0.280682  8.049253\n",
              "4   6    A    A    A    C  ...  1.000773  0.776742  0.625849  0.250823  7.972260\n",
              "\n",
              "[5 rows x 26 columns]"
            ]
          },
          "metadata": {},
          "execution_count": 4
        }
      ]
    },
    {
      "cell_type": "markdown",
      "metadata": {
        "id": "-7HfJuLXSshZ"
      },
      "source": [
        "le shape mte3ha 9adesh 3ana men sxp ou 9adesh 3ana men feature"
      ]
    },
    {
      "cell_type": "code",
      "metadata": {
        "colab": {
          "base_uri": "https://localhost:8080/"
        },
        "id": "7PYvlmi6pZ2F",
        "outputId": "cbb6cba8-3904-4e0c-ef61-9a11cc5508fb"
      },
      "source": [
        "train_df.shape"
      ],
      "execution_count": 5,
      "outputs": [
        {
          "output_type": "execute_result",
          "data": {
            "text/plain": [
              "(300000, 26)"
            ]
          },
          "metadata": {},
          "execution_count": 5
        }
      ]
    },
    {
      "cell_type": "markdown",
      "metadata": {
        "id": "POgNm0s9S0CH"
      },
      "source": [
        "n5thou \"sample\" mel dataset mte3na"
      ]
    },
    {
      "cell_type": "code",
      "metadata": {
        "colab": {
          "base_uri": "https://localhost:8080/"
        },
        "id": "b6JEZHtbzxsE",
        "outputId": "a562d97f-bef5-451e-e814-252085887d43"
      },
      "source": [
        "train_df.iloc[0]"
      ],
      "execution_count": 6,
      "outputs": [
        {
          "output_type": "execute_result",
          "data": {
            "text/plain": [
              "id                1\n",
              "cat0              B\n",
              "cat1              B\n",
              "cat2              B\n",
              "cat3              C\n",
              "cat4              B\n",
              "cat5              B\n",
              "cat6              A\n",
              "cat7              E\n",
              "cat8              C\n",
              "cat9              N\n",
              "cont0       0.20147\n",
              "cont1    -0.0148218\n",
              "cont2      0.669699\n",
              "cont3      0.136278\n",
              "cont4      0.610706\n",
              "cont5      0.400361\n",
              "cont6      0.160266\n",
              "cont7      0.310921\n",
              "cont8       0.38947\n",
              "cont9      0.267559\n",
              "cont10     0.237281\n",
              "cont11     0.377873\n",
              "cont12     0.322401\n",
              "cont13      0.86985\n",
              "target      8.11363\n",
              "Name: 0, dtype: object"
            ]
          },
          "metadata": {},
          "execution_count": 6
        }
      ]
    },
    {
      "cell_type": "markdown",
      "metadata": {
        "id": "Wh5jTU08S8oQ"
      },
      "source": [
        "netfa9dou ken ne9sa 7aja"
      ]
    },
    {
      "cell_type": "code",
      "metadata": {
        "colab": {
          "base_uri": "https://localhost:8080/"
        },
        "id": "K8YUux60gS2t",
        "outputId": "e721e7e1-9361-40d3-e9c5-3cb5b70c9edc"
      },
      "source": [
        "train_df.isnull().sum()"
      ],
      "execution_count": 7,
      "outputs": [
        {
          "output_type": "execute_result",
          "data": {
            "text/plain": [
              "id        0\n",
              "cat0      0\n",
              "cat1      0\n",
              "cat2      0\n",
              "cat3      0\n",
              "cat4      0\n",
              "cat5      0\n",
              "cat6      0\n",
              "cat7      0\n",
              "cat8      0\n",
              "cat9      0\n",
              "cont0     0\n",
              "cont1     0\n",
              "cont2     0\n",
              "cont3     0\n",
              "cont4     0\n",
              "cont5     0\n",
              "cont6     0\n",
              "cont7     0\n",
              "cont8     0\n",
              "cont9     0\n",
              "cont10    0\n",
              "cont11    0\n",
              "cont12    0\n",
              "cont13    0\n",
              "target    0\n",
              "dtype: int64"
            ]
          },
          "metadata": {},
          "execution_count": 7
        }
      ]
    },
    {
      "cell_type": "markdown",
      "metadata": {
        "id": "78ooAnwG4EcJ"
      },
      "source": [
        "mafam shay ne9es no need to impute the data or drop some of it"
      ]
    },
    {
      "cell_type": "markdown",
      "metadata": {
        "id": "tAQVQofGTB0Y"
      },
      "source": [
        "ama fama moshekla! 3ana categorical data :/ \n",
        "lezem n7aoulouha yama bel ordinal_econder ouala bel one_hot_encoder "
      ]
    },
    {
      "cell_type": "markdown",
      "metadata": {
        "id": "h_Wx1pju3SlD"
      },
      "source": [
        "# Data preprocessing "
      ]
    },
    {
      "cell_type": "markdown",
      "metadata": {
        "id": "G-6yFVD4TSIu"
      },
      "source": [
        "nshoufou anehom el cols ely fihom categorical data "
      ]
    },
    {
      "cell_type": "code",
      "metadata": {
        "id": "f2Gslz0Y3GVG"
      },
      "source": [
        "object_cols = [col for col in train_df if train_df[col].dtypes == 'object' ]"
      ],
      "execution_count": 8,
      "outputs": []
    },
    {
      "cell_type": "code",
      "metadata": {
        "colab": {
          "base_uri": "https://localhost:8080/"
        },
        "id": "j6u0JRyn3Kyi",
        "outputId": "af742b48-1627-441f-cd68-c05cd2beab5d"
      },
      "source": [
        "object_cols"
      ],
      "execution_count": 9,
      "outputs": [
        {
          "output_type": "execute_result",
          "data": {
            "text/plain": [
              "['cat0',\n",
              " 'cat1',\n",
              " 'cat2',\n",
              " 'cat3',\n",
              " 'cat4',\n",
              " 'cat5',\n",
              " 'cat6',\n",
              " 'cat7',\n",
              " 'cat8',\n",
              " 'cat9']"
            ]
          },
          "metadata": {},
          "execution_count": 9
        }
      ]
    },
    {
      "cell_type": "markdown",
      "metadata": {
        "id": "89azq4DmTYvh"
      },
      "source": [
        "nshoufou shnouma el classes elyu 3ana men kol categorical variable (feature)"
      ]
    },
    {
      "cell_type": "code",
      "metadata": {
        "colab": {
          "base_uri": "https://localhost:8080/"
        },
        "id": "zHEsXCtk6gbj",
        "outputId": "cdbb410f-e7fb-4348-9ac5-2a46c3e53073"
      },
      "source": [
        "for col in object_cols: \n",
        "  print(train_df[col].unique())"
      ],
      "execution_count": 10,
      "outputs": [
        {
          "output_type": "stream",
          "name": "stdout",
          "text": [
            "['B' 'A']\n",
            "['B' 'A']\n",
            "['B' 'A']\n",
            "['C' 'A' 'D' 'B']\n",
            "['B' 'C' 'A' 'D']\n",
            "['B' 'D' 'C' 'A']\n",
            "['A' 'B' 'C' 'H' 'D' 'I' 'G' 'E']\n",
            "['E' 'F' 'D' 'B' 'G' 'C' 'A' 'I']\n",
            "['C' 'A' 'G' 'E' 'F' 'D' 'B']\n",
            "['N' 'O' 'F' 'K' 'M' 'I' 'G' 'H' 'L' 'B' 'A' 'J' 'D' 'C' 'E']\n"
          ]
        }
      ]
    },
    {
      "cell_type": "markdown",
      "metadata": {
        "id": "40NjcNK0TiOr"
      },
      "source": [
        "lehne ena 5taret na3mel ordinal encoding "
      ]
    },
    {
      "cell_type": "code",
      "metadata": {
        "id": "_eLi_O8TymWB"
      },
      "source": [
        "from sklearn.preprocessing import OrdinalEncoder\n",
        "#import sklearn a7sen mely ta3mel haka ._.\n",
        "ordinal_encoder = OrdinalEncoder()\n",
        "encoded_train_df=train_df.copy()\n",
        "encoded_train_df[object_cols]=ordinal_encoder.fit_transform(train_df[object_cols])"
      ],
      "execution_count": 11,
      "outputs": []
    },
    {
      "cell_type": "markdown",
      "metadata": {
        "id": "bOy6mgduTl58"
      },
      "source": [
        "kont najem na3mel one hot encoding 5ater el nbre mta3 el classes moush kbir barsha "
      ]
    },
    {
      "cell_type": "code",
      "metadata": {
        "id": "EiEzywOt4BET"
      },
      "source": [
        "# from sklearn.preprocessing import OneHotEncoder\n",
        "# OH_encoder =OneHotEncoder(handle_unknown='ignore',sparse=False)\n",
        "# encoded_train_df=train_df.copy()\n",
        "# for col in object_cols:\n",
        "#   encoded_train_df[col]=OH_encoder.fit_transform(np.array(train_df[col]).reshape(-1, 1))"
      ],
      "execution_count": 12,
      "outputs": []
    },
    {
      "cell_type": "markdown",
      "metadata": {
        "id": "yhykX4T2TuXY"
      },
      "source": [
        "ouala kont najem na3mel el zouz! cols na3melhom bel ordinal encoder oou cols na3malhom bel one hot encoder ou nshouf anehou ely medli les resultas ely 5ir"
      ]
    },
    {
      "cell_type": "code",
      "metadata": {
        "colab": {
          "base_uri": "https://localhost:8080/",
          "height": 226
        },
        "id": "wWEL9J3ezV_g",
        "outputId": "6fc56360-eb05-410d-c141-d84bcc3f8a17"
      },
      "source": [
        "encoded_train_df.head()"
      ],
      "execution_count": 13,
      "outputs": [
        {
          "output_type": "execute_result",
          "data": {
            "text/html": [
              "<div>\n",
              "<style scoped>\n",
              "    .dataframe tbody tr th:only-of-type {\n",
              "        vertical-align: middle;\n",
              "    }\n",
              "\n",
              "    .dataframe tbody tr th {\n",
              "        vertical-align: top;\n",
              "    }\n",
              "\n",
              "    .dataframe thead th {\n",
              "        text-align: right;\n",
              "    }\n",
              "</style>\n",
              "<table border=\"1\" class=\"dataframe\">\n",
              "  <thead>\n",
              "    <tr style=\"text-align: right;\">\n",
              "      <th></th>\n",
              "      <th>id</th>\n",
              "      <th>cat0</th>\n",
              "      <th>cat1</th>\n",
              "      <th>cat2</th>\n",
              "      <th>cat3</th>\n",
              "      <th>cat4</th>\n",
              "      <th>cat5</th>\n",
              "      <th>cat6</th>\n",
              "      <th>cat7</th>\n",
              "      <th>cat8</th>\n",
              "      <th>cat9</th>\n",
              "      <th>cont0</th>\n",
              "      <th>cont1</th>\n",
              "      <th>cont2</th>\n",
              "      <th>cont3</th>\n",
              "      <th>cont4</th>\n",
              "      <th>cont5</th>\n",
              "      <th>cont6</th>\n",
              "      <th>cont7</th>\n",
              "      <th>cont8</th>\n",
              "      <th>cont9</th>\n",
              "      <th>cont10</th>\n",
              "      <th>cont11</th>\n",
              "      <th>cont12</th>\n",
              "      <th>cont13</th>\n",
              "      <th>target</th>\n",
              "    </tr>\n",
              "  </thead>\n",
              "  <tbody>\n",
              "    <tr>\n",
              "      <th>0</th>\n",
              "      <td>1</td>\n",
              "      <td>1.0</td>\n",
              "      <td>1.0</td>\n",
              "      <td>1.0</td>\n",
              "      <td>2.0</td>\n",
              "      <td>1.0</td>\n",
              "      <td>1.0</td>\n",
              "      <td>0.0</td>\n",
              "      <td>4.0</td>\n",
              "      <td>2.0</td>\n",
              "      <td>13.0</td>\n",
              "      <td>0.201470</td>\n",
              "      <td>-0.014822</td>\n",
              "      <td>0.669699</td>\n",
              "      <td>0.136278</td>\n",
              "      <td>0.610706</td>\n",
              "      <td>0.400361</td>\n",
              "      <td>0.160266</td>\n",
              "      <td>0.310921</td>\n",
              "      <td>0.389470</td>\n",
              "      <td>0.267559</td>\n",
              "      <td>0.237281</td>\n",
              "      <td>0.377873</td>\n",
              "      <td>0.322401</td>\n",
              "      <td>0.869850</td>\n",
              "      <td>8.113634</td>\n",
              "    </tr>\n",
              "    <tr>\n",
              "      <th>1</th>\n",
              "      <td>2</td>\n",
              "      <td>1.0</td>\n",
              "      <td>1.0</td>\n",
              "      <td>0.0</td>\n",
              "      <td>0.0</td>\n",
              "      <td>1.0</td>\n",
              "      <td>3.0</td>\n",
              "      <td>0.0</td>\n",
              "      <td>5.0</td>\n",
              "      <td>0.0</td>\n",
              "      <td>14.0</td>\n",
              "      <td>0.743068</td>\n",
              "      <td>0.367411</td>\n",
              "      <td>1.021605</td>\n",
              "      <td>0.365798</td>\n",
              "      <td>0.276853</td>\n",
              "      <td>0.533087</td>\n",
              "      <td>0.558922</td>\n",
              "      <td>0.516294</td>\n",
              "      <td>0.594928</td>\n",
              "      <td>0.341439</td>\n",
              "      <td>0.906013</td>\n",
              "      <td>0.921701</td>\n",
              "      <td>0.261975</td>\n",
              "      <td>0.465083</td>\n",
              "      <td>8.481233</td>\n",
              "    </tr>\n",
              "    <tr>\n",
              "      <th>2</th>\n",
              "      <td>3</td>\n",
              "      <td>0.0</td>\n",
              "      <td>0.0</td>\n",
              "      <td>0.0</td>\n",
              "      <td>2.0</td>\n",
              "      <td>1.0</td>\n",
              "      <td>3.0</td>\n",
              "      <td>0.0</td>\n",
              "      <td>3.0</td>\n",
              "      <td>0.0</td>\n",
              "      <td>5.0</td>\n",
              "      <td>0.742708</td>\n",
              "      <td>0.310383</td>\n",
              "      <td>-0.012673</td>\n",
              "      <td>0.576957</td>\n",
              "      <td>0.285074</td>\n",
              "      <td>0.650609</td>\n",
              "      <td>0.375348</td>\n",
              "      <td>0.902567</td>\n",
              "      <td>0.555205</td>\n",
              "      <td>0.843531</td>\n",
              "      <td>0.748809</td>\n",
              "      <td>0.620126</td>\n",
              "      <td>0.541474</td>\n",
              "      <td>0.763846</td>\n",
              "      <td>8.364351</td>\n",
              "    </tr>\n",
              "    <tr>\n",
              "      <th>3</th>\n",
              "      <td>4</td>\n",
              "      <td>1.0</td>\n",
              "      <td>1.0</td>\n",
              "      <td>0.0</td>\n",
              "      <td>2.0</td>\n",
              "      <td>1.0</td>\n",
              "      <td>3.0</td>\n",
              "      <td>0.0</td>\n",
              "      <td>4.0</td>\n",
              "      <td>2.0</td>\n",
              "      <td>10.0</td>\n",
              "      <td>0.429551</td>\n",
              "      <td>0.620998</td>\n",
              "      <td>0.577942</td>\n",
              "      <td>0.280610</td>\n",
              "      <td>0.284667</td>\n",
              "      <td>0.668980</td>\n",
              "      <td>0.239061</td>\n",
              "      <td>0.732948</td>\n",
              "      <td>0.679618</td>\n",
              "      <td>0.574844</td>\n",
              "      <td>0.346010</td>\n",
              "      <td>0.714610</td>\n",
              "      <td>0.540150</td>\n",
              "      <td>0.280682</td>\n",
              "      <td>8.049253</td>\n",
              "    </tr>\n",
              "    <tr>\n",
              "      <th>4</th>\n",
              "      <td>6</td>\n",
              "      <td>0.0</td>\n",
              "      <td>0.0</td>\n",
              "      <td>0.0</td>\n",
              "      <td>2.0</td>\n",
              "      <td>1.0</td>\n",
              "      <td>3.0</td>\n",
              "      <td>0.0</td>\n",
              "      <td>4.0</td>\n",
              "      <td>0.0</td>\n",
              "      <td>13.0</td>\n",
              "      <td>1.058291</td>\n",
              "      <td>0.367492</td>\n",
              "      <td>-0.052389</td>\n",
              "      <td>0.232407</td>\n",
              "      <td>0.287595</td>\n",
              "      <td>0.686964</td>\n",
              "      <td>0.420667</td>\n",
              "      <td>0.648182</td>\n",
              "      <td>0.684501</td>\n",
              "      <td>0.956692</td>\n",
              "      <td>1.000773</td>\n",
              "      <td>0.776742</td>\n",
              "      <td>0.625849</td>\n",
              "      <td>0.250823</td>\n",
              "      <td>7.972260</td>\n",
              "    </tr>\n",
              "  </tbody>\n",
              "</table>\n",
              "</div>"
            ],
            "text/plain": [
              "   id  cat0  cat1  cat2  cat3  ...    cont10    cont11    cont12    cont13    target\n",
              "0   1   1.0   1.0   1.0   2.0  ...  0.237281  0.377873  0.322401  0.869850  8.113634\n",
              "1   2   1.0   1.0   0.0   0.0  ...  0.906013  0.921701  0.261975  0.465083  8.481233\n",
              "2   3   0.0   0.0   0.0   2.0  ...  0.748809  0.620126  0.541474  0.763846  8.364351\n",
              "3   4   1.0   1.0   0.0   2.0  ...  0.346010  0.714610  0.540150  0.280682  8.049253\n",
              "4   6   0.0   0.0   0.0   2.0  ...  1.000773  0.776742  0.625849  0.250823  7.972260\n",
              "\n",
              "[5 rows x 26 columns]"
            ]
          },
          "metadata": {},
          "execution_count": 13
        }
      ]
    },
    {
      "cell_type": "markdown",
      "metadata": {
        "id": "7pGXWfYAo4Xg"
      },
      "source": [
        "n9asmou el data mte3na el featuers (X)ou taget (y)\n",
        "(supervised learning)"
      ]
    },
    {
      "cell_type": "code",
      "metadata": {
        "id": "m54geUzWpA2M"
      },
      "source": [
        "X=encoded_train_df.iloc[:,1:-1]"
      ],
      "execution_count": 14,
      "outputs": []
    },
    {
      "cell_type": "code",
      "metadata": {
        "colab": {
          "base_uri": "https://localhost:8080/",
          "height": 424
        },
        "id": "L5ADo5cyqEqi",
        "outputId": "0982d3c8-a98f-4ca7-d4fe-599bb747309e"
      },
      "source": [
        "X"
      ],
      "execution_count": 15,
      "outputs": [
        {
          "output_type": "execute_result",
          "data": {
            "text/html": [
              "<div>\n",
              "<style scoped>\n",
              "    .dataframe tbody tr th:only-of-type {\n",
              "        vertical-align: middle;\n",
              "    }\n",
              "\n",
              "    .dataframe tbody tr th {\n",
              "        vertical-align: top;\n",
              "    }\n",
              "\n",
              "    .dataframe thead th {\n",
              "        text-align: right;\n",
              "    }\n",
              "</style>\n",
              "<table border=\"1\" class=\"dataframe\">\n",
              "  <thead>\n",
              "    <tr style=\"text-align: right;\">\n",
              "      <th></th>\n",
              "      <th>cat0</th>\n",
              "      <th>cat1</th>\n",
              "      <th>cat2</th>\n",
              "      <th>cat3</th>\n",
              "      <th>cat4</th>\n",
              "      <th>cat5</th>\n",
              "      <th>cat6</th>\n",
              "      <th>cat7</th>\n",
              "      <th>cat8</th>\n",
              "      <th>cat9</th>\n",
              "      <th>cont0</th>\n",
              "      <th>cont1</th>\n",
              "      <th>cont2</th>\n",
              "      <th>cont3</th>\n",
              "      <th>cont4</th>\n",
              "      <th>cont5</th>\n",
              "      <th>cont6</th>\n",
              "      <th>cont7</th>\n",
              "      <th>cont8</th>\n",
              "      <th>cont9</th>\n",
              "      <th>cont10</th>\n",
              "      <th>cont11</th>\n",
              "      <th>cont12</th>\n",
              "      <th>cont13</th>\n",
              "    </tr>\n",
              "  </thead>\n",
              "  <tbody>\n",
              "    <tr>\n",
              "      <th>0</th>\n",
              "      <td>1.0</td>\n",
              "      <td>1.0</td>\n",
              "      <td>1.0</td>\n",
              "      <td>2.0</td>\n",
              "      <td>1.0</td>\n",
              "      <td>1.0</td>\n",
              "      <td>0.0</td>\n",
              "      <td>4.0</td>\n",
              "      <td>2.0</td>\n",
              "      <td>13.0</td>\n",
              "      <td>0.201470</td>\n",
              "      <td>-0.014822</td>\n",
              "      <td>0.669699</td>\n",
              "      <td>0.136278</td>\n",
              "      <td>0.610706</td>\n",
              "      <td>0.400361</td>\n",
              "      <td>0.160266</td>\n",
              "      <td>0.310921</td>\n",
              "      <td>0.389470</td>\n",
              "      <td>0.267559</td>\n",
              "      <td>0.237281</td>\n",
              "      <td>0.377873</td>\n",
              "      <td>0.322401</td>\n",
              "      <td>0.869850</td>\n",
              "    </tr>\n",
              "    <tr>\n",
              "      <th>1</th>\n",
              "      <td>1.0</td>\n",
              "      <td>1.0</td>\n",
              "      <td>0.0</td>\n",
              "      <td>0.0</td>\n",
              "      <td>1.0</td>\n",
              "      <td>3.0</td>\n",
              "      <td>0.0</td>\n",
              "      <td>5.0</td>\n",
              "      <td>0.0</td>\n",
              "      <td>14.0</td>\n",
              "      <td>0.743068</td>\n",
              "      <td>0.367411</td>\n",
              "      <td>1.021605</td>\n",
              "      <td>0.365798</td>\n",
              "      <td>0.276853</td>\n",
              "      <td>0.533087</td>\n",
              "      <td>0.558922</td>\n",
              "      <td>0.516294</td>\n",
              "      <td>0.594928</td>\n",
              "      <td>0.341439</td>\n",
              "      <td>0.906013</td>\n",
              "      <td>0.921701</td>\n",
              "      <td>0.261975</td>\n",
              "      <td>0.465083</td>\n",
              "    </tr>\n",
              "    <tr>\n",
              "      <th>2</th>\n",
              "      <td>0.0</td>\n",
              "      <td>0.0</td>\n",
              "      <td>0.0</td>\n",
              "      <td>2.0</td>\n",
              "      <td>1.0</td>\n",
              "      <td>3.0</td>\n",
              "      <td>0.0</td>\n",
              "      <td>3.0</td>\n",
              "      <td>0.0</td>\n",
              "      <td>5.0</td>\n",
              "      <td>0.742708</td>\n",
              "      <td>0.310383</td>\n",
              "      <td>-0.012673</td>\n",
              "      <td>0.576957</td>\n",
              "      <td>0.285074</td>\n",
              "      <td>0.650609</td>\n",
              "      <td>0.375348</td>\n",
              "      <td>0.902567</td>\n",
              "      <td>0.555205</td>\n",
              "      <td>0.843531</td>\n",
              "      <td>0.748809</td>\n",
              "      <td>0.620126</td>\n",
              "      <td>0.541474</td>\n",
              "      <td>0.763846</td>\n",
              "    </tr>\n",
              "    <tr>\n",
              "      <th>3</th>\n",
              "      <td>1.0</td>\n",
              "      <td>1.0</td>\n",
              "      <td>0.0</td>\n",
              "      <td>2.0</td>\n",
              "      <td>1.0</td>\n",
              "      <td>3.0</td>\n",
              "      <td>0.0</td>\n",
              "      <td>4.0</td>\n",
              "      <td>2.0</td>\n",
              "      <td>10.0</td>\n",
              "      <td>0.429551</td>\n",
              "      <td>0.620998</td>\n",
              "      <td>0.577942</td>\n",
              "      <td>0.280610</td>\n",
              "      <td>0.284667</td>\n",
              "      <td>0.668980</td>\n",
              "      <td>0.239061</td>\n",
              "      <td>0.732948</td>\n",
              "      <td>0.679618</td>\n",
              "      <td>0.574844</td>\n",
              "      <td>0.346010</td>\n",
              "      <td>0.714610</td>\n",
              "      <td>0.540150</td>\n",
              "      <td>0.280682</td>\n",
              "    </tr>\n",
              "    <tr>\n",
              "      <th>4</th>\n",
              "      <td>0.0</td>\n",
              "      <td>0.0</td>\n",
              "      <td>0.0</td>\n",
              "      <td>2.0</td>\n",
              "      <td>1.0</td>\n",
              "      <td>3.0</td>\n",
              "      <td>0.0</td>\n",
              "      <td>4.0</td>\n",
              "      <td>0.0</td>\n",
              "      <td>13.0</td>\n",
              "      <td>1.058291</td>\n",
              "      <td>0.367492</td>\n",
              "      <td>-0.052389</td>\n",
              "      <td>0.232407</td>\n",
              "      <td>0.287595</td>\n",
              "      <td>0.686964</td>\n",
              "      <td>0.420667</td>\n",
              "      <td>0.648182</td>\n",
              "      <td>0.684501</td>\n",
              "      <td>0.956692</td>\n",
              "      <td>1.000773</td>\n",
              "      <td>0.776742</td>\n",
              "      <td>0.625849</td>\n",
              "      <td>0.250823</td>\n",
              "    </tr>\n",
              "    <tr>\n",
              "      <th>...</th>\n",
              "      <td>...</td>\n",
              "      <td>...</td>\n",
              "      <td>...</td>\n",
              "      <td>...</td>\n",
              "      <td>...</td>\n",
              "      <td>...</td>\n",
              "      <td>...</td>\n",
              "      <td>...</td>\n",
              "      <td>...</td>\n",
              "      <td>...</td>\n",
              "      <td>...</td>\n",
              "      <td>...</td>\n",
              "      <td>...</td>\n",
              "      <td>...</td>\n",
              "      <td>...</td>\n",
              "      <td>...</td>\n",
              "      <td>...</td>\n",
              "      <td>...</td>\n",
              "      <td>...</td>\n",
              "      <td>...</td>\n",
              "      <td>...</td>\n",
              "      <td>...</td>\n",
              "      <td>...</td>\n",
              "      <td>...</td>\n",
              "    </tr>\n",
              "    <tr>\n",
              "      <th>299995</th>\n",
              "      <td>1.0</td>\n",
              "      <td>1.0</td>\n",
              "      <td>0.0</td>\n",
              "      <td>0.0</td>\n",
              "      <td>1.0</td>\n",
              "      <td>3.0</td>\n",
              "      <td>0.0</td>\n",
              "      <td>4.0</td>\n",
              "      <td>0.0</td>\n",
              "      <td>8.0</td>\n",
              "      <td>0.697124</td>\n",
              "      <td>0.483452</td>\n",
              "      <td>0.297770</td>\n",
              "      <td>0.195821</td>\n",
              "      <td>0.307883</td>\n",
              "      <td>0.769792</td>\n",
              "      <td>0.450538</td>\n",
              "      <td>0.934360</td>\n",
              "      <td>1.005077</td>\n",
              "      <td>0.853726</td>\n",
              "      <td>0.422541</td>\n",
              "      <td>1.063463</td>\n",
              "      <td>0.697685</td>\n",
              "      <td>0.506404</td>\n",
              "    </tr>\n",
              "    <tr>\n",
              "      <th>299996</th>\n",
              "      <td>0.0</td>\n",
              "      <td>1.0</td>\n",
              "      <td>0.0</td>\n",
              "      <td>2.0</td>\n",
              "      <td>1.0</td>\n",
              "      <td>1.0</td>\n",
              "      <td>0.0</td>\n",
              "      <td>4.0</td>\n",
              "      <td>4.0</td>\n",
              "      <td>5.0</td>\n",
              "      <td>0.446200</td>\n",
              "      <td>0.715135</td>\n",
              "      <td>0.610931</td>\n",
              "      <td>0.601730</td>\n",
              "      <td>0.736713</td>\n",
              "      <td>0.528056</td>\n",
              "      <td>0.508502</td>\n",
              "      <td>0.358247</td>\n",
              "      <td>0.257825</td>\n",
              "      <td>0.433525</td>\n",
              "      <td>0.301015</td>\n",
              "      <td>0.268447</td>\n",
              "      <td>0.577055</td>\n",
              "      <td>0.823611</td>\n",
              "    </tr>\n",
              "    <tr>\n",
              "      <th>299997</th>\n",
              "      <td>1.0</td>\n",
              "      <td>1.0</td>\n",
              "      <td>0.0</td>\n",
              "      <td>2.0</td>\n",
              "      <td>1.0</td>\n",
              "      <td>2.0</td>\n",
              "      <td>0.0</td>\n",
              "      <td>4.0</td>\n",
              "      <td>6.0</td>\n",
              "      <td>5.0</td>\n",
              "      <td>0.544279</td>\n",
              "      <td>0.060937</td>\n",
              "      <td>0.590955</td>\n",
              "      <td>0.905308</td>\n",
              "      <td>0.277074</td>\n",
              "      <td>0.688747</td>\n",
              "      <td>0.372425</td>\n",
              "      <td>0.364936</td>\n",
              "      <td>0.383224</td>\n",
              "      <td>0.551825</td>\n",
              "      <td>0.661007</td>\n",
              "      <td>0.629606</td>\n",
              "      <td>0.714139</td>\n",
              "      <td>0.245732</td>\n",
              "    </tr>\n",
              "    <tr>\n",
              "      <th>299998</th>\n",
              "      <td>0.0</td>\n",
              "      <td>1.0</td>\n",
              "      <td>0.0</td>\n",
              "      <td>2.0</td>\n",
              "      <td>1.0</td>\n",
              "      <td>1.0</td>\n",
              "      <td>0.0</td>\n",
              "      <td>4.0</td>\n",
              "      <td>4.0</td>\n",
              "      <td>8.0</td>\n",
              "      <td>0.300062</td>\n",
              "      <td>0.613118</td>\n",
              "      <td>0.285213</td>\n",
              "      <td>0.406851</td>\n",
              "      <td>0.805963</td>\n",
              "      <td>0.344404</td>\n",
              "      <td>0.424243</td>\n",
              "      <td>0.382028</td>\n",
              "      <td>0.468819</td>\n",
              "      <td>0.351036</td>\n",
              "      <td>0.288768</td>\n",
              "      <td>0.611169</td>\n",
              "      <td>0.380254</td>\n",
              "      <td>0.332030</td>\n",
              "    </tr>\n",
              "    <tr>\n",
              "      <th>299999</th>\n",
              "      <td>0.0</td>\n",
              "      <td>0.0</td>\n",
              "      <td>0.0</td>\n",
              "      <td>2.0</td>\n",
              "      <td>0.0</td>\n",
              "      <td>3.0</td>\n",
              "      <td>0.0</td>\n",
              "      <td>4.0</td>\n",
              "      <td>0.0</td>\n",
              "      <td>14.0</td>\n",
              "      <td>0.857752</td>\n",
              "      <td>0.628528</td>\n",
              "      <td>0.539625</td>\n",
              "      <td>0.396143</td>\n",
              "      <td>0.276785</td>\n",
              "      <td>0.565347</td>\n",
              "      <td>0.328669</td>\n",
              "      <td>0.789165</td>\n",
              "      <td>0.960406</td>\n",
              "      <td>0.776019</td>\n",
              "      <td>0.734707</td>\n",
              "      <td>0.484392</td>\n",
              "      <td>0.639754</td>\n",
              "      <td>0.689317</td>\n",
              "    </tr>\n",
              "  </tbody>\n",
              "</table>\n",
              "<p>300000 rows × 24 columns</p>\n",
              "</div>"
            ],
            "text/plain": [
              "        cat0  cat1  cat2  cat3  ...    cont10    cont11    cont12    cont13\n",
              "0        1.0   1.0   1.0   2.0  ...  0.237281  0.377873  0.322401  0.869850\n",
              "1        1.0   1.0   0.0   0.0  ...  0.906013  0.921701  0.261975  0.465083\n",
              "2        0.0   0.0   0.0   2.0  ...  0.748809  0.620126  0.541474  0.763846\n",
              "3        1.0   1.0   0.0   2.0  ...  0.346010  0.714610  0.540150  0.280682\n",
              "4        0.0   0.0   0.0   2.0  ...  1.000773  0.776742  0.625849  0.250823\n",
              "...      ...   ...   ...   ...  ...       ...       ...       ...       ...\n",
              "299995   1.0   1.0   0.0   0.0  ...  0.422541  1.063463  0.697685  0.506404\n",
              "299996   0.0   1.0   0.0   2.0  ...  0.301015  0.268447  0.577055  0.823611\n",
              "299997   1.0   1.0   0.0   2.0  ...  0.661007  0.629606  0.714139  0.245732\n",
              "299998   0.0   1.0   0.0   2.0  ...  0.288768  0.611169  0.380254  0.332030\n",
              "299999   0.0   0.0   0.0   2.0  ...  0.734707  0.484392  0.639754  0.689317\n",
              "\n",
              "[300000 rows x 24 columns]"
            ]
          },
          "metadata": {},
          "execution_count": 15
        }
      ]
    },
    {
      "cell_type": "code",
      "metadata": {
        "id": "thCg6b0AFrEy"
      },
      "source": [
        "y=encoded_train_df.iloc[:,-1:]"
      ],
      "execution_count": 22,
      "outputs": []
    },
    {
      "cell_type": "code",
      "metadata": {
        "colab": {
          "base_uri": "https://localhost:8080/",
          "height": 424
        },
        "id": "4UlYNE8wF0sb",
        "outputId": "2a09c81d-1210-4a6c-af55-15c782b0259b"
      },
      "source": [
        "y"
      ],
      "execution_count": 23,
      "outputs": [
        {
          "output_type": "execute_result",
          "data": {
            "text/html": [
              "<div>\n",
              "<style scoped>\n",
              "    .dataframe tbody tr th:only-of-type {\n",
              "        vertical-align: middle;\n",
              "    }\n",
              "\n",
              "    .dataframe tbody tr th {\n",
              "        vertical-align: top;\n",
              "    }\n",
              "\n",
              "    .dataframe thead th {\n",
              "        text-align: right;\n",
              "    }\n",
              "</style>\n",
              "<table border=\"1\" class=\"dataframe\">\n",
              "  <thead>\n",
              "    <tr style=\"text-align: right;\">\n",
              "      <th></th>\n",
              "      <th>target</th>\n",
              "    </tr>\n",
              "  </thead>\n",
              "  <tbody>\n",
              "    <tr>\n",
              "      <th>0</th>\n",
              "      <td>8.113634</td>\n",
              "    </tr>\n",
              "    <tr>\n",
              "      <th>1</th>\n",
              "      <td>8.481233</td>\n",
              "    </tr>\n",
              "    <tr>\n",
              "      <th>2</th>\n",
              "      <td>8.364351</td>\n",
              "    </tr>\n",
              "    <tr>\n",
              "      <th>3</th>\n",
              "      <td>8.049253</td>\n",
              "    </tr>\n",
              "    <tr>\n",
              "      <th>4</th>\n",
              "      <td>7.972260</td>\n",
              "    </tr>\n",
              "    <tr>\n",
              "      <th>...</th>\n",
              "      <td>...</td>\n",
              "    </tr>\n",
              "    <tr>\n",
              "      <th>299995</th>\n",
              "      <td>7.945605</td>\n",
              "    </tr>\n",
              "    <tr>\n",
              "      <th>299996</th>\n",
              "      <td>7.326118</td>\n",
              "    </tr>\n",
              "    <tr>\n",
              "      <th>299997</th>\n",
              "      <td>8.706755</td>\n",
              "    </tr>\n",
              "    <tr>\n",
              "      <th>299998</th>\n",
              "      <td>7.229569</td>\n",
              "    </tr>\n",
              "    <tr>\n",
              "      <th>299999</th>\n",
              "      <td>8.631146</td>\n",
              "    </tr>\n",
              "  </tbody>\n",
              "</table>\n",
              "<p>300000 rows × 1 columns</p>\n",
              "</div>"
            ],
            "text/plain": [
              "          target\n",
              "0       8.113634\n",
              "1       8.481233\n",
              "2       8.364351\n",
              "3       8.049253\n",
              "4       7.972260\n",
              "...          ...\n",
              "299995  7.945605\n",
              "299996  7.326118\n",
              "299997  8.706755\n",
              "299998  7.229569\n",
              "299999  8.631146\n",
              "\n",
              "[300000 rows x 1 columns]"
            ]
          },
          "metadata": {},
          "execution_count": 23
        }
      ]
    },
    {
      "cell_type": "markdown",
      "metadata": {
        "id": "1dilvlrtoi7A"
      },
      "source": [
        "n9asmou el data mte3na train ou validation "
      ]
    },
    {
      "cell_type": "markdown",
      "metadata": {
        "id": "aXzq8JanUktS"
      },
      "source": [
        "![image.png](data:image/png;base64,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)"
      ]
    },
    {
      "cell_type": "code",
      "metadata": {
        "id": "-hmi7Xwhoio6"
      },
      "source": [
        "from sklearn.model_selection import train_test_split\n",
        "X_train, X_valid, y_train, y_valid = sklearn.model_selection.train_test_split(X, y)"
      ],
      "execution_count": 24,
      "outputs": []
    },
    {
      "cell_type": "markdown",
      "metadata": {
        "id": "IcWwb1Lx3jyy"
      },
      "source": [
        "# Model"
      ]
    },
    {
      "cell_type": "markdown",
      "metadata": {
        "id": "NygkVSOA3uuS"
      },
      "source": [
        "![image.png](data:image/png;base64,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)"
      ]
    },
    {
      "cell_type": "code",
      "metadata": {
        "id": "A7sx__UqRToo"
      },
      "source": [
        "from sklearn.ensemble import RandomForestRegressor \n",
        "from sklearn.metrics import mean_squared_error\n",
        "model=RandomForestRegressor(random_state=1)\n",
        "model.fit(x_train,y_train)\n",
        "pred_valid=model.predict(x_valid)\n",
        "print(mean_squared_error(y_valid,pred_valid,squared=False))"
      ],
      "execution_count": null,
      "outputs": []
    },
    {
      "cell_type": "code",
      "metadata": {
        "id": "emgSU5-hR49h"
      },
      "source": [
        "predictions=model.predict(x_test)\n",
        "output=pd.DataFrame({'Id':x_test.index,'target':predictions})\n",
        "output.to_csv('submissions.csv',index=False)"
      ],
      "execution_count": null,
      "outputs": []
    },
    {
      "cell_type": "markdown",
      "metadata": {
        "id": "YvresmmxR727"
      },
      "source": [
        "a o5ra b algo esmou xgb"
      ]
    },
    {
      "cell_type": "code",
      "metadata": {
        "id": "H1gtsWKa2cbR"
      },
      "source": [
        "# XGB_model = XGBRegressor(n_estimators=6500, learning_rate=0.0325, max_depth=3, tree_method='gpu_hist', predictor='gpu_predictor')\n",
        "# XGB_model.fit(X_train, y_train)\n",
        "# preds_valid = XGB_model.predict(X_valid)\n",
        "# loss=mean_squared_error(y_valid, preds_valid, squared=False)\n",
        "# print(loss)"
      ],
      "execution_count": null,
      "outputs": []
    }
  ]
}